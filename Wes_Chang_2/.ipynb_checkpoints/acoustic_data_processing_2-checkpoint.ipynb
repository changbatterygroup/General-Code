{
 "cells": [
  {
   "cell_type": "code",
   "execution_count": 1,
   "id": "c124b0db-068c-4009-8f40-f458def0b500",
   "metadata": {},
   "outputs": [],
   "source": [
    "import math\n",
    "import matplotlib.pyplot as plt\n",
    "import numpy as np\n",
    "import pandas as pd\n",
    "import json\n",
    "import numpy as np\n",
    "from scipy.interpolate import interp2d\n",
    "from matplotlib.ticker import FuncFormatter\n",
    "import h5py\n",
    "import ijson"
   ]
  },
  {
   "cell_type": "code",
   "execution_count": 11,
   "id": "9384b19b-51f9-4ce0-8f14-c69656713f6f",
   "metadata": {},
   "outputs": [
    {
     "name": "stdout",
     "output_type": "stream",
     "text": [
      "14992\n"
     ]
    }
   ],
   "source": [
    "def generate_data(file_path):\n",
    "    count = 0\n",
    "    with open(file_path) as f:\n",
    "        for line in f:\n",
    "            if not line.strip():\n",
    "                continue\n",
    "\n",
    "            try:\n",
    "                json_obj = json.loads(line)\n",
    "                count += 1\n",
    "            except: pass\n",
    "            yield json_obj\n",
    "\n",
    "def append_to_hdf5(hdf5_filename, data, count):\n",
    "    with h5py.File(hdf5_filename, 'w') as f:\n",
    "        # Create or append to a dataset with a unique name (e.g., using a counter)\n",
    "        dset = f.create_dataset('amps',(count, 4000), dtype='f')\n",
    "        timestamps = f.create_dataset('timestamps', (count, 1), dtype='f')\n",
    "        \n",
    "\n",
    "json_file_path = \"/home/jovyan/work/General/Group/Data/Ultrasound/EFC project/20240202_WC_JE_EFC2.json\"\n",
    "hdf5_path =  \"/home/jovyan/work/General/Group/Data/Ultrasound/EFC project/20240202_WC_JE_EFC2_2.hdf5\"\n",
    "\n",
    "amps = []\n",
    "times = []\n",
    "\n",
    "for json_obj in generate_data(json_file_path):\n",
    "    append_to_hdf5(hdf5_path, json_obj, count)\n",
    "    \n",
    "        \n"
   ]
  },
  {
   "cell_type": "code",
   "execution_count": 21,
   "id": "a4a5fc58-e54d-414d-ab7f-f85e4dac6f67",
   "metadata": {},
   "outputs": [
    {
     "ename": "ValueError",
     "evalue": "Field names only allowed for compound types",
     "output_type": "error",
     "traceback": [
      "\u001b[0;31m---------------------------------------------------------------------------\u001b[0m",
      "\u001b[0;31mValueError\u001b[0m                                Traceback (most recent call last)",
      "Cell \u001b[0;32mIn[21], line 16\u001b[0m\n\u001b[1;32m      7\u001b[0m     \u001b[38;5;28;01mreturn\u001b[39;00m dset\n\u001b[1;32m      8\u001b[0m     \u001b[38;5;66;03m# print(f.keys())\u001b[39;00m\n\u001b[1;32m      9\u001b[0m     \u001b[38;5;66;03m# dset = f['data']\u001b[39;00m\n\u001b[1;32m     10\u001b[0m     \u001b[38;5;66;03m# timestamp = f['timestamps']\u001b[39;00m\n\u001b[0;32m   (...)\u001b[0m\n\u001b[1;32m     14\u001b[0m \n\u001b[1;32m     15\u001b[0m     \u001b[38;5;66;03m# return dset, timestamp\u001b[39;00m\n\u001b[0;32m---> 16\u001b[0m file_obj \u001b[38;5;241m=\u001b[39m \u001b[43mload_from_cache\u001b[49m\u001b[43m(\u001b[49m\u001b[43mhdf5_path\u001b[49m\u001b[43m)\u001b[49m\n\u001b[1;32m     17\u001b[0m waves \u001b[38;5;241m=\u001b[39m file_obj\n\u001b[1;32m     18\u001b[0m t_amps \u001b[38;5;241m=\u001b[39m []\n",
      "Cell \u001b[0;32mIn[21], line 6\u001b[0m, in \u001b[0;36mload_from_cache\u001b[0;34m(fname)\u001b[0m\n\u001b[1;32m      4\u001b[0m f \u001b[38;5;241m=\u001b[39m h5py\u001b[38;5;241m.\u001b[39mFile(fname, \u001b[38;5;124m'\u001b[39m\u001b[38;5;124mr\u001b[39m\u001b[38;5;124m'\u001b[39m)\n\u001b[1;32m      5\u001b[0m dset \u001b[38;5;241m=\u001b[39m f[\u001b[38;5;124m'\u001b[39m\u001b[38;5;124mdataset_0\u001b[39m\u001b[38;5;124m'\u001b[39m]\n\u001b[0;32m----> 6\u001b[0m \u001b[38;5;28mprint\u001b[39m(\u001b[43mdset\u001b[49m\u001b[43m[\u001b[49m\u001b[38;5;124;43m'\u001b[39;49m\u001b[38;5;124;43mamps\u001b[39;49m\u001b[38;5;124;43m'\u001b[39;49m\u001b[43m]\u001b[49m)\n\u001b[1;32m      7\u001b[0m \u001b[38;5;28;01mreturn\u001b[39;00m dset\n",
      "File \u001b[0;32mh5py/_objects.pyx:54\u001b[0m, in \u001b[0;36mh5py._objects.with_phil.wrapper\u001b[0;34m()\u001b[0m\n",
      "File \u001b[0;32mh5py/_objects.pyx:55\u001b[0m, in \u001b[0;36mh5py._objects.with_phil.wrapper\u001b[0;34m()\u001b[0m\n",
      "File \u001b[0;32m/opt/conda/lib/python3.11/site-packages/h5py/_hl/dataset.py:777\u001b[0m, in \u001b[0;36mDataset.__getitem__\u001b[0;34m(self, args, new_dtype)\u001b[0m\n\u001b[1;32m    775\u001b[0m         names \u001b[38;5;241m=\u001b[39m names[\u001b[38;5;241m0\u001b[39m]  \u001b[38;5;66;03m# Read with simpler dtype of this field\u001b[39;00m\n\u001b[1;32m    776\u001b[0m     args \u001b[38;5;241m=\u001b[39m \u001b[38;5;28mtuple\u001b[39m(x \u001b[38;5;28;01mfor\u001b[39;00m x \u001b[38;5;129;01min\u001b[39;00m args \u001b[38;5;28;01mif\u001b[39;00m \u001b[38;5;129;01mnot\u001b[39;00m \u001b[38;5;28misinstance\u001b[39m(x, \u001b[38;5;28mstr\u001b[39m))\n\u001b[0;32m--> 777\u001b[0m     \u001b[38;5;28;01mreturn\u001b[39;00m \u001b[38;5;28;43mself\u001b[39;49m\u001b[38;5;241;43m.\u001b[39;49m\u001b[43mfields\u001b[49m\u001b[43m(\u001b[49m\u001b[43mnames\u001b[49m\u001b[43m,\u001b[49m\u001b[43m \u001b[49m\u001b[43m_prior_dtype\u001b[49m\u001b[38;5;241;43m=\u001b[39;49m\u001b[43mnew_dtype\u001b[49m\u001b[43m)\u001b[49m[args]\n\u001b[1;32m    779\u001b[0m \u001b[38;5;28;01mif\u001b[39;00m new_dtype \u001b[38;5;129;01mis\u001b[39;00m \u001b[38;5;28;01mNone\u001b[39;00m:\n\u001b[1;32m    780\u001b[0m     new_dtype \u001b[38;5;241m=\u001b[39m \u001b[38;5;28mself\u001b[39m\u001b[38;5;241m.\u001b[39mdtype\n",
      "File \u001b[0;32m/opt/conda/lib/python3.11/site-packages/h5py/_hl/dataset.py:440\u001b[0m, in \u001b[0;36mDataset.fields\u001b[0;34m(self, names, _prior_dtype)\u001b[0m\n\u001b[1;32m    438\u001b[0m \u001b[38;5;28;01mif\u001b[39;00m _prior_dtype \u001b[38;5;129;01mis\u001b[39;00m \u001b[38;5;28;01mNone\u001b[39;00m:\n\u001b[1;32m    439\u001b[0m     _prior_dtype \u001b[38;5;241m=\u001b[39m \u001b[38;5;28mself\u001b[39m\u001b[38;5;241m.\u001b[39mdtype\n\u001b[0;32m--> 440\u001b[0m \u001b[38;5;28;01mreturn\u001b[39;00m \u001b[43mFieldsWrapper\u001b[49m\u001b[43m(\u001b[49m\u001b[38;5;28;43mself\u001b[39;49m\u001b[43m,\u001b[49m\u001b[43m \u001b[49m\u001b[43m_prior_dtype\u001b[49m\u001b[43m,\u001b[49m\u001b[43m \u001b[49m\u001b[43mnames\u001b[49m\u001b[43m)\u001b[49m\n",
      "File \u001b[0;32m/opt/conda/lib/python3.11/site-packages/h5py/_hl/dataset.py:269\u001b[0m, in \u001b[0;36mFieldsWrapper.__init__\u001b[0;34m(self, dset, prior_dtype, names)\u001b[0m\n\u001b[1;32m    267\u001b[0m     \u001b[38;5;28mself\u001b[39m\u001b[38;5;241m.\u001b[39mextract_field \u001b[38;5;241m=\u001b[39m names\n\u001b[1;32m    268\u001b[0m     names \u001b[38;5;241m=\u001b[39m [names]\n\u001b[0;32m--> 269\u001b[0m \u001b[38;5;28mself\u001b[39m\u001b[38;5;241m.\u001b[39mread_dtype \u001b[38;5;241m=\u001b[39m \u001b[43mreadtime_dtype\u001b[49m\u001b[43m(\u001b[49m\u001b[43mprior_dtype\u001b[49m\u001b[43m,\u001b[49m\u001b[43m \u001b[49m\u001b[43mnames\u001b[49m\u001b[43m)\u001b[49m\n",
      "File \u001b[0;32m/opt/conda/lib/python3.11/site-packages/h5py/_hl/dataset.py:294\u001b[0m, in \u001b[0;36mreadtime_dtype\u001b[0;34m(basetype, names)\u001b[0m\n\u001b[1;32m    292\u001b[0m \u001b[38;5;250m\u001b[39m\u001b[38;5;124;03m\"\"\"Make a NumPy compound dtype with a subset of available fields\"\"\"\u001b[39;00m\n\u001b[1;32m    293\u001b[0m \u001b[38;5;28;01mif\u001b[39;00m basetype\u001b[38;5;241m.\u001b[39mnames \u001b[38;5;129;01mis\u001b[39;00m \u001b[38;5;28;01mNone\u001b[39;00m:  \u001b[38;5;66;03m# Names provided, but not compound\u001b[39;00m\n\u001b[0;32m--> 294\u001b[0m     \u001b[38;5;28;01mraise\u001b[39;00m \u001b[38;5;167;01mValueError\u001b[39;00m(\u001b[38;5;124m\"\u001b[39m\u001b[38;5;124mField names only allowed for compound types\u001b[39m\u001b[38;5;124m\"\u001b[39m)\n\u001b[1;32m    296\u001b[0m \u001b[38;5;28;01mfor\u001b[39;00m name \u001b[38;5;129;01min\u001b[39;00m names:  \u001b[38;5;66;03m# Check all names are legal\u001b[39;00m\n\u001b[1;32m    297\u001b[0m     \u001b[38;5;28;01mif\u001b[39;00m name \u001b[38;5;129;01mnot\u001b[39;00m \u001b[38;5;129;01min\u001b[39;00m basetype\u001b[38;5;241m.\u001b[39mnames:\n",
      "\u001b[0;31mValueError\u001b[0m: Field names only allowed for compound types"
     ]
    }
   ],
   "source": [
    "def load_from_cache(fname):\n",
    "    fname =  \"/home/jovyan/work/General/Group/Data/Ultrasound/EFC project/20240202_WC_JE_EFC2.hdf5\"\n",
    "\n",
    "    f = h5py.File(fname, 'r')\n",
    "    dset = f['dataset_0']\n",
    "    print(dset)\n",
    "    return dset\n",
    "    # print(f.keys())\n",
    "    # dset = f['data']\n",
    "    # timestamp = f['timestamps']\n",
    "    \n",
    "    # for item in dset.attrs.items():\n",
    "    #     print(item)\n",
    "\n",
    "    # return dset, timestamp\n",
    "file_obj = load_from_cache(hdf5_path)\n",
    "waves = file_obj\n",
    "t_amps = []\n",
    "for wave in waves:\n",
    "    t_amps.append(np.dot(wave, np.array(wave).T))\n",
    "plt.plot(t_amps)\n",
    "plt.show()"
   ]
  },
  {
   "cell_type": "code",
   "execution_count": null,
   "id": "53fc8b04-c8fc-42f9-af02-65623274c4d7",
   "metadata": {},
   "outputs": [],
   "source": []
  }
 ],
 "metadata": {
  "kernelspec": {
   "display_name": "Python 3 (ipykernel)",
   "language": "python",
   "name": "python3"
  },
  "language_info": {
   "codemirror_mode": {
    "name": "ipython",
    "version": 3
   },
   "file_extension": ".py",
   "mimetype": "text/x-python",
   "name": "python",
   "nbconvert_exporter": "python",
   "pygments_lexer": "ipython3",
   "version": "3.11.6"
  }
 },
 "nbformat": 4,
 "nbformat_minor": 5
}
