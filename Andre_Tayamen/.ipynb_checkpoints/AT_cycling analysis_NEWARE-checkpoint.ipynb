{
 "cells": [
  {
   "cell_type": "code",
   "execution_count": null,
   "id": "02996eb5-5be3-4aed-a237-aee40b4e5387",
   "metadata": {},
   "outputs": [],
   "source": [
    "import math\n",
    "import matplotlib.pyplot as plt\n",
    "import numpy as np\n",
    "import pandas as pd\n",
    "import itertools \n",
    "\n",
    "mariter = itertools.cycle(('o','s','^','p'))\n",
    "# marker = next(mariter) # paste this to cycle through differt marker styles if needed\n",
    "\n",
    "plt.rcParams['figure.figsize'] = [9,6] # size of the plot; use 3t:2t ratio; recommended 9:6 or 15:10\n",
    "plt.rcParams['figure.dpi'] = 300 # quality of the plot; use 300 for debugging, 1000+ for quality\n",
    "plt.rcParams['axes.titlesize'] = 20 # fontsize of the title\n",
    "plt.rcParams['axes.labelsize'] = 16 # fontsize of the x- and y-axis labels\n",
    "plt.rcParams['xtick.labelsize'] = 12 # fontsize of the x-axis\n",
    "plt.rcParams['ytick.labelsize'] = 12 # fontsize of the y-axis\n",
    "plt.rcParams['legend.markerscale'] = 1 # legend marker size\n",
    "plt.rcParams['lines.markersize'] = 10 # marker size\n",
    "plt.rcParams['lines.linestyle'] = '--' # line in between points; use 'None' or '--' (dashed)\n",
    "plt.rcParams['lines.linewidth'] = 2 # width of line between points, if any\n",
    "plt.rcParams['axes.titlepad'] = 15 # distance between plot area and title\n",
    "plt.rcParams['axes.labelpad'] = 10 # distance between plot area and title"
   ]
  },
  {
   "cell_type": "code",
   "execution_count": null,
   "id": "d39ea3e7-6b3d-4075-a0cc-49e1c518a6f6",
   "metadata": {},
   "outputs": [],
   "source": []
  }
 ],
 "metadata": {
  "kernelspec": {
   "display_name": "Python 3 (ipykernel)",
   "language": "python",
   "name": "python3"
  },
  "language_info": {
   "codemirror_mode": {
    "name": "ipython",
    "version": 3
   },
   "file_extension": ".py",
   "mimetype": "text/x-python",
   "name": "python",
   "nbconvert_exporter": "python",
   "pygments_lexer": "ipython3",
   "version": "3.11.6"
  }
 },
 "nbformat": 4,
 "nbformat_minor": 5
}
