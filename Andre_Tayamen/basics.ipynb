{
 "cells": [
  {
   "cell_type": "code",
   "execution_count": 1,
   "id": "49de248c-7a91-4bde-82d5-b0c801690643",
   "metadata": {},
   "outputs": [
    {
     "name": "stdout",
     "output_type": "stream",
     "text": [
      "Variable Assignments\n",
      "apple\n",
      "1\n",
      "['apple', 3, 'orange']\n",
      "apple 1 ['apple', 3, 'orange']\n",
      "\n"
     ]
    }
   ],
   "source": [
    "# This is a brief tutorial on the basic operations of Python.\n",
    "\n",
    "# Python is an object-oriented programming language that combines the best features of \n",
    "# scripting languages, math-oriented languages (i.e. Matlab) and modern languages (C++, Java)\n",
    "\n",
    "# Comments are defined with a '#' sign. Nothing to the right of a '#' in Python is executed\n",
    "\n",
    "# This is how we import libraries, these are included up top. Pandas, numpy and matplotlib are common packages\n",
    "# Pandas is a package for manipulating dataframes (i.e. csv files, Excel spreadsheets) \n",
    "# Numpy is for mathematical operations\n",
    "# Matplotlib is for plotting. Here, we're specifically importing the pyplot submodule and calling it plt\n",
    "import pandas as pd\n",
    "import numpy as np\n",
    "import matplotlib.pyplot as plt\n",
    "\n",
    "# Now let's get started. \n",
    "\n",
    "print(\"Variable Assignments\")\n",
    "#this is how you set a variable\n",
    "a = \"apple\"\n",
    "b = 1\n",
    "c = ['apple',3,'orange']\n",
    "\n",
    "#This is how you show a variable \n",
    "print(a)\n",
    "print(b)\n",
    "print(c)\n",
    "\n",
    "#throw them together\n",
    "print(a,b,c)\n",
    "print(\"\")"
   ]
  },
  {
   "cell_type": "code",
   "execution_count": 9,
   "id": "030461c8-47c3-4699-bb24-55b3a72a999d",
   "metadata": {},
   "outputs": [
    {
     "name": "stdout",
     "output_type": "stream",
     "text": [
      "Math Section\n",
      "d = 7.0\n",
      "e = 9.0\n",
      "d+e = 16.0\n",
      "d-e = -2.0\n",
      "d*e = 63.0\n",
      "d/e = 0.7777777777777778\n",
      "d^2 = 49.0\n",
      "e^2 = 81.0\n",
      "PEMDAS COUNTS!\n"
     ]
    }
   ],
   "source": [
    "print(\"Math Section\")\n",
    "\n",
    "d = 7.0 # use decimals to indicate you would like to do math with a float\n",
    "e = 9.0\n",
    "print(\"d =\",d)\n",
    "print(\"e =\",e)\n",
    "print(\"d+e =\",d+e)\n",
    "print(\"d-e =\",d-e)\n",
    "print(\"d*e =\",d*e)\n",
    "print(\"d/e =\",d/e)\n",
    "print(\"d^2 =\",d**2)\n",
    "print(\"e^2 =\",e**2)\n",
    "print(\"PEMDAS COUNTS!\")\n",
    "\n",
    "# Notice how python doesn't seem to care what type of data you assigned to a variable.  This is because python trusts you to know what you are doing. For more about this go here: http://bit.ly/python-typing"
   ]
  },
  {
   "cell_type": "code",
   "execution_count": 10,
   "id": "54a0b2e0-cd28-44f9-8635-d8c911f68b75",
   "metadata": {},
   "outputs": [
    {
     "name": "stdout",
     "output_type": "stream",
     "text": [
      "Error Handling\n",
      "can only concatenate str (not \"int\") to str\n",
      "why did that happen?\n"
     ]
    }
   ],
   "source": [
    "print(\"Error Handling\")\n",
    "\n",
    "try:\n",
    "    ab = a+b\n",
    "    print(ab)\n",
    "except Exception as err:\n",
    "    print(err)\n",
    "    \n",
    "print(\"why did that happen?\")\n",
    "    \n",
    "#Notice what we did up there: we used try and except to try a risky function (\"try:\") and then handle (\"except Exception as err:\") error that risk function might have created.  If we did not handle the error the programe would have stopped dead in its tracks.\n",
    "\n",
    "#Notice, also, that I indented code above.  python uses \"whitespace\" to delimit code. let's examine this with some common programming concepts"
   ]
  },
  {
   "cell_type": "code",
   "execution_count": 11,
   "id": "606a7bd6-bcbf-4b53-90e3-990791b9f2e8",
   "metadata": {},
   "outputs": [
    {
     "name": "stdout",
     "output_type": "stream",
     "text": [
      "Conditional Section\n",
      "a is larger\n"
     ]
    }
   ],
   "source": [
    "print(\"Conditional Section\")\n",
    "\n",
    "a = 5\n",
    "b = 4\n",
    "if a > b:\n",
    "    print(\"a is larger\")\n",
    "elif b<a:\n",
    "    print(\"b is larger\")\n",
    "else:\n",
    "    print(\"a and b are the same\")\n",
    "    \n",
    "#if whitespace is not consistent, an error is thrown\n"
   ]
  },
  {
   "cell_type": "code",
   "execution_count": 12,
   "id": "baa50e81-2887-48bd-9cfe-ab5791ac0f50",
   "metadata": {},
   "outputs": [
    {
     "name": "stdout",
     "output_type": "stream",
     "text": [
      "Iterators and Lists Section\n",
      "a =  range(1, 10)\n",
      "now let's count\n",
      "1\n",
      "2\n",
      "3\n",
      "4\n",
      "5\n",
      "6\n",
      "7\n",
      "8\n",
      "9\n",
      "1^1 =  1\n",
      "2^2 =  4\n",
      "3^3 =  27\n",
      "4^4 =  256\n",
      "5^5 =  3125\n",
      "6^6 =  46656\n",
      "7^7 =  823543\n",
      "8^8 =  16777216\n",
      "9^9 =  387420489\n",
      "1/5 =  0.2\n",
      "2/5 =  0.4\n",
      "3/5 =  0.6\n",
      "4/5 =  0.8\n",
      "5/5 =  1.0\n",
      "6/5 =  1.2\n",
      "7/5 =  1.4\n",
      "8/5 =  1.6\n",
      "9/5 =  1.8\n",
      "much better, what did I change?\n",
      "finally, a while conditional\n",
      "0\n",
      "1\n",
      "2\n",
      "3\n",
      "4\n",
      "5\n",
      "6\n",
      "7\n",
      "8\n",
      "9\n",
      "what happens if the condition is never met?\n"
     ]
    }
   ],
   "source": [
    "print(\"Iterators and Lists Section\")\n",
    "#iteration in python is more similar to matlab than c.  below we will use a range operator\n",
    "\n",
    "#let's make a list of numbers from 1 to 9\n",
    "a = range(1,10)\n",
    "print('a = ', a)\n",
    "\n",
    "#now, to interate through:\n",
    "print(\"now let's count\")\n",
    "for i in a:\n",
    "    print(i)\n",
    "\n",
    "#now, to interate through:\n",
    "\n",
    "for i in a:\n",
    "    print(str(i)+\"^\"+str(i)+\" = \",i**i)\n",
    "#what did I just do there?\n",
    "\n",
    "for i in a:\n",
    "    print(str(i)+\"/5 = \",i/float(5))\n",
    "print(\"much better, what did I change?\")\n",
    "\n",
    "print(\"finally, a while conditional\")\n",
    "a = 0\n",
    "while a < 10:\n",
    "    print(a)\n",
    "    a += 1\n",
    "\n",
    "print(\"what happens if the condition is never met?\")\n"
   ]
  }
 ],
 "metadata": {
  "kernelspec": {
   "display_name": "Python 3 (ipykernel)",
   "language": "python",
   "name": "python3"
  },
  "language_info": {
   "codemirror_mode": {
    "name": "ipython",
    "version": 3
   },
   "file_extension": ".py",
   "mimetype": "text/x-python",
   "name": "python",
   "nbconvert_exporter": "python",
   "pygments_lexer": "ipython3",
   "version": "3.11.6"
  }
 },
 "nbformat": 4,
 "nbformat_minor": 5
}
