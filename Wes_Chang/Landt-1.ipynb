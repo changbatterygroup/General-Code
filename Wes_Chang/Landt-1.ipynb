import numpy as np
import pandas as pd
import matplotlib.pyplot as plt
from datetime import datetime
import pytz
from io import StringIO

file_path = "/Users/wesleychang/OneDrive - Drexel University/Chang Lab/General/Group/Data/Landt_cyclers/CoinCell_012_FT_012524012_003_3.csv"

data = pd.read_csv(file_path)
print(data)

# data = data.split('Step')
# print(data)

# for i in range(1,len(data)):
#     d1 = pd.read_csv(StringIO(data[i]), delim_whitespace=True, header=3)
#     print(d1)
#     plt.plot(d1['TestTime'], d1['Voltage/V'])
local_timezone = pytz.timezone('US/Eastern')
# # Convert the column to datetime objects
data['TestTime'] = pd.to_datetime(data['TestTime'], format='%H:%M:%S.%f')

# # Function to convert local time to UTC
# def convert_to_utc(local_time):
#     local_datetime = datetime.combine(datetime.today(), local_time)
#     local_datetime = local_timezone.localize(local_datetime)
#     utc_datetime = local_datetime.astimezone(pytz.utc)
#     return utc_datetime.time()

# # Apply the conversion function to the entire column
# # df['UTC'] = df['TestTime'].apply(convert_to_utc)

# # Print the result
# print(df)
plt.plot(data['TestTime'], data['Voltage/V'], marker='o')
plt.xlabel('Time (seconds)')
plt.ylabel('Voltage (V)')
plt.title('Time vs Voltage')
plt.show()
