{
 "cells": [
  {
   "cell_type": "code",
   "execution_count": 1,
   "id": "c124b0db-068c-4009-8f40-f458def0b500",
   "metadata": {},
   "outputs": [],
   "source": [
    "import math\n",
    "import matplotlib.pyplot as plt\n",
    "import numpy as np\n",
    "import pandas as pd\n",
    "import json\n",
    "import numpy as np\n",
    "from scipy.interpolate import interp2d\n",
    "from matplotlib.ticker import FuncFormatter\n",
    "import h5py\n",
    "import ijson"
   ]
  },
  {
   "cell_type": "code",
   "execution_count": 11,
   "id": "9384b19b-51f9-4ce0-8f14-c69656713f6f",
   "metadata": {},
   "outputs": [
    {
     "name": "stdout",
     "output_type": "stream",
     "text": [
      "14992\n"
     ]
    }
   ],
   "source": [
    "def generate_data(file_path):\n",
    "    count = 0\n",
    "    with open(file_path) as f:\n",
    "        for line in f:\n",
    "            if not line.strip():\n",
    "                continue\n",
    "\n",
    "            try:\n",
    "                json_obj = json.loads(line)\n",
    "                count += 1\n",
    "            except: pass\n",
    "            yield json_obj\n",
    "\n",
    "def append_to_hdf5(hdf5_filename, data, count):\n",
    "    with h5py.File(hdf5_filename, 'w') as f:\n",
    "        # Create or append to a dataset with a unique name (e.g., using a counter)\n",
    "        dset = f.create_dataset('amps',(count, 4000), dtype='f')\n",
    "        timestamps = f.create_dataset('timestamps', (count, 1), dtype='f')\n",
    "        \n",
    "\n",
    "json_file_path = \"/home/jovyan/work/General/Group/Data/Ultrasound/EFC project/20240202_WC_JE_EFC2.json\"\n",
    "hdf5_path =  \"/home/jovyan/work/General/Group/Data/Ultrasound/EFC project/20240202_WC_JE_EFC2_2.hdf5\"\n",
    "\n",
    "amps = []\n",
    "times = []\n",
    "\n",
    "for json_obj in generate_data(json_file_path):\n",
    "    append_to_hdf5(hdf5_path, json_obj, count)\n",
    "    \n",
    "        \n"
   ]
  },
  {
   "cell_type": "code",
   "execution_count": 22,
   "id": "a4a5fc58-e54d-414d-ab7f-f85e4dac6f67",
   "metadata": {},
   "outputs": [
    {
     "name": "stdout",
     "output_type": "stream",
     "text": [
      "<HDF5 dataset \"dataset_0\": shape (), type \"|O\">\n"
     ]
    },
    {
     "ename": "TypeError",
     "evalue": "Can't iterate over a scalar dataset",
     "output_type": "error",
     "traceback": [
      "\u001b[0;31m---------------------------------------------------------------------------\u001b[0m",
      "\u001b[0;31mTypeError\u001b[0m                                 Traceback (most recent call last)",
      "Cell \u001b[0;32mIn[22], line 19\u001b[0m\n\u001b[1;32m     17\u001b[0m waves \u001b[38;5;241m=\u001b[39m file_obj\n\u001b[1;32m     18\u001b[0m t_amps \u001b[38;5;241m=\u001b[39m []\n\u001b[0;32m---> 19\u001b[0m \u001b[38;5;28;01mfor\u001b[39;00m wave \u001b[38;5;129;01min\u001b[39;00m waves:\n\u001b[1;32m     20\u001b[0m     t_amps\u001b[38;5;241m.\u001b[39mappend(np\u001b[38;5;241m.\u001b[39mdot(wave, np\u001b[38;5;241m.\u001b[39marray(wave)\u001b[38;5;241m.\u001b[39mT))\n\u001b[1;32m     21\u001b[0m plt\u001b[38;5;241m.\u001b[39mplot(t_amps)\n",
      "File \u001b[0;32m/opt/conda/lib/python3.11/site-packages/h5py/_hl/dataset.py:713\u001b[0m, in \u001b[0;36mDataset.__iter__\u001b[0;34m(self)\u001b[0m\n\u001b[1;32m    711\u001b[0m shape \u001b[38;5;241m=\u001b[39m \u001b[38;5;28mself\u001b[39m\u001b[38;5;241m.\u001b[39mshape\n\u001b[1;32m    712\u001b[0m \u001b[38;5;28;01mif\u001b[39;00m \u001b[38;5;28mlen\u001b[39m(shape) \u001b[38;5;241m==\u001b[39m \u001b[38;5;241m0\u001b[39m:\n\u001b[0;32m--> 713\u001b[0m     \u001b[38;5;28;01mraise\u001b[39;00m \u001b[38;5;167;01mTypeError\u001b[39;00m(\u001b[38;5;124m\"\u001b[39m\u001b[38;5;124mCan\u001b[39m\u001b[38;5;124m'\u001b[39m\u001b[38;5;124mt iterate over a scalar dataset\u001b[39m\u001b[38;5;124m\"\u001b[39m)\n\u001b[1;32m    714\u001b[0m \u001b[38;5;28;01mfor\u001b[39;00m i \u001b[38;5;129;01min\u001b[39;00m \u001b[38;5;28mrange\u001b[39m(shape[\u001b[38;5;241m0\u001b[39m]):\n\u001b[1;32m    715\u001b[0m     \u001b[38;5;28;01myield\u001b[39;00m \u001b[38;5;28mself\u001b[39m[i]\n",
      "\u001b[0;31mTypeError\u001b[0m: Can't iterate over a scalar dataset"
     ]
    }
   ],
   "source": [
    "def load_from_cache(fname):\n",
    "    fname =  \"/home/jovyan/work/General/Group/Data/Ultrasound/EFC project/20240202_WC_JE_EFC2.hdf5\"\n",
    "\n",
    "    f = h5py.File(fname, 'r')\n",
    "    dset = f['dataset_0']\n",
    "    print(dset)\n",
    "    return dset\n",
    "    # print(f.keys())\n",
    "    # dset = f['data']\n",
    "    # timestamp = f['timestamps']\n",
    "    \n",
    "    # for item in dset.attrs.items():\n",
    "    #     print(item)\n",
    "\n",
    "    # return dset, timestamp\n",
    "file_obj = load_from_cache(hdf5_path)\n",
    "waves = file_obj\n",
    "t_amps = []\n",
    "for wave in waves:\n",
    "    t_amps.append(np.dot(wave, np.array(wave).T))\n",
    "plt.plot(t_amps)\n",
    "plt.show()"
   ]
  },
  {
   "cell_type": "code",
   "execution_count": null,
   "id": "53fc8b04-c8fc-42f9-af02-65623274c4d7",
   "metadata": {},
   "outputs": [],
   "source": []
  }
 ],
 "metadata": {
  "kernelspec": {
   "display_name": "Python 3 (ipykernel)",
   "language": "python",
   "name": "python3"
  },
  "language_info": {
   "codemirror_mode": {
    "name": "ipython",
    "version": 3
   },
   "file_extension": ".py",
   "mimetype": "text/x-python",
   "name": "python",
   "nbconvert_exporter": "python",
   "pygments_lexer": "ipython3",
   "version": "3.11.6"
  }
 },
 "nbformat": 4,
 "nbformat_minor": 5
}
