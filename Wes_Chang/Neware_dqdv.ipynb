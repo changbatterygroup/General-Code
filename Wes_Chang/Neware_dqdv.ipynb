{
 "cells": [
  {
   "cell_type": "code",
   "execution_count": 1,
   "metadata": {},
   "outputs": [
    {
     "name": "stdout",
     "output_type": "stream",
     "text": [
      "/Users/wesleychang/OneDrive - Drexel University/Chang Lab/General/Group/Code/Wes_Chang\n"
     ]
    }
   ],
   "source": [
    "import pandas as pd \n",
    "import numpy as np \n",
    "import matplotlib.pyplot as plt \n",
    "import os\n",
    "\n",
    "file_path = \"/Users/wesleychang/OneDrive - Drexel University/Chang Lab/General/Individual/Andre Tayamen/Data/Cycling - NEWARE/AT_MP_003_21_formation_1.csv\"\n",
    "\n",
    "df = pd.read_csv(file_path)\n",
    "\n"
   ]
  }
 ],
 "metadata": {
  "kernelspec": {
   "display_name": "wesleychang-voY7E120",
   "language": "python",
   "name": "python3"
  },
  "language_info": {
   "codemirror_mode": {
    "name": "ipython",
    "version": 3
   },
   "file_extension": ".py",
   "mimetype": "text/x-python",
   "name": "python",
   "nbconvert_exporter": "python",
   "pygments_lexer": "ipython3",
   "version": "3.8.10"
  }
 },
 "nbformat": 4,
 "nbformat_minor": 2
}
