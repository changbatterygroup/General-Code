{
 "cells": [
  {
   "cell_type": "code",
   "execution_count": 3,
   "id": "100929dc-2703-4191-b3dc-0914a87fe1f1",
   "metadata": {},
   "outputs": [
    {
     "name": "stdout",
     "output_type": "stream",
     "text": [
      "/home/jovyan/code/Wes_Chang\n",
      "Error: Directory not found at path ~/work/General/Group/Code\n"
     ]
    }
   ],
   "source": [
    "import numpy as np\n",
    "import pandas as pd\n",
    "import os \n",
    "print(os.getcwd())\n",
    "def list_files(directory):\n",
    "    try:\n",
    "        with os.scandir(directory) as entries:\n",
    "            print(\"Files in Directory:\")\n",
    "            for entry in entries:\n",
    "                if entry.is_dir():\n",
    "                    print(entry.name)\n",
    "    except FileNotFoundError:\n",
    "        print(f\"Error: Directory not found at path {directory}\")\n",
    "    except Exception as e:\n",
    "        print(f\"An error occurred: {e}\")\n",
    "\n",
    "# Example usage:\n",
    "file_path = '/home/jovyan/work/General/Group/Code'\n",
    "list_files(file_path)"
   ]
  },
  {
   "cell_type": "code",
   "execution_count": null,
   "id": "cc9f459f-06a6-44f9-8bdd-09a3c50db698",
   "metadata": {},
   "outputs": [],
   "source": []
  }
 ],
 "metadata": {
  "kernelspec": {
   "display_name": "Python 3 (ipykernel)",
   "language": "python",
   "name": "python3"
  },
  "language_info": {
   "codemirror_mode": {
    "name": "ipython",
    "version": 3
   },
   "file_extension": ".py",
   "mimetype": "text/x-python",
   "name": "python",
   "nbconvert_exporter": "python",
   "pygments_lexer": "ipython3",
   "version": "3.11.6"
  }
 },
 "nbformat": 4,
 "nbformat_minor": 5
}
