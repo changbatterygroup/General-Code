{
 "cells": [
  {
   "cell_type": "code",
   "execution_count": null,
   "id": "e649c601-343a-4045-ae1d-694563384051",
   "metadata": {},
   "outputs": [],
   "source": [
    "import math\n",
    "import matplotlib.pyplot as plt\n",
    "import numpy as np\n",
    "import pandas as pd\n",
    "import itertools \n",
    "\n",
    "mariter = itertools.cycle(('o','s','^','p'))\n",
    "# marker = next(mariter) # paste this to cycle through differt marker styles if needed\n",
    "\n",
    "plt.rcParams['figure.figsize'] = [9,6] # size of the plot; use 3t:2t ratio; recommended 9:6 or 15:10\n",
    "plt.rcParams['figure.dpi'] = 300 # quality of the plot; use 300 for debugging, 1000+ for quality\n",
    "plt.rcParams['axes.titlesize'] = 20 # fontsize of the title\n",
    "plt.rcParams['axes.labelsize'] = 16 # fontsize of the x- and y-axis labels\n",
    "plt.rcParams['xtick.labelsize'] = 12 # fontsize of the x-axis\n",
    "plt.rcParams['ytick.labelsize'] = 12 # fontsize of the y-axis\n",
    "plt.rcParams['legend.markerscale'] = 1 # legend marker size\n",
    "plt.rcParams['lines.markersize'] = 10 # marker size\n",
    "plt.rcParams['lines.linestyle'] = '--' # line in between points; use 'None' or '--' (dashed)\n",
    "plt.rcParams['lines.linewidth'] = 2 # width of line between points, if any\n",
    "plt.rcParams['axes.titlepad'] = 15 # distance between plot area and title\n",
    "plt.rcParams['axes.labelpad'] = 10 # distance between plot area and title"
   ]
  },
  {
   "cell_type": "code",
   "execution_count": null,
   "id": "b7a1bc80-0c95-42f5-ba36-f2e3745b3971",
   "metadata": {},
   "outputs": [],
   "source": [
    "# Input file location\n",
    "file_path = \"/home/jovyan/work/General/Group/Data/Landt_cyclers/CSV_CoinCell_FT_012424_006_002_1.csv\"\n",
    "print(df.head())\n",
    "cycles = df['Record'].unique()\n",
    "\n",
    "mean_kernel_50 = np.full((50,), 1/50)\n",
    "\n",
    "for color,cycle in zip(colors,cycles):\n",
    "    cycle_data = df[df['CycleNo']==cycle]\n",
    "    cycle_data = cycle_data.sort_values(by=\"Capacity/uAh\")\n"
   ]
  }
 ],
 "metadata": {
  "kernelspec": {
   "display_name": "Python 3 (ipykernel)",
   "language": "python",
   "name": "python3"
  },
  "language_info": {
   "codemirror_mode": {
    "name": "ipython",
    "version": 3
   },
   "file_extension": ".py",
   "mimetype": "text/x-python",
   "name": "python",
   "nbconvert_exporter": "python",
   "pygments_lexer": "ipython3",
   "version": "3.11.6"
  }
 },
 "nbformat": 4,
 "nbformat_minor": 5
}
